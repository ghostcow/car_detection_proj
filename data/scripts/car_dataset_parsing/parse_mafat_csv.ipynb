{
 "cells": [
  {
   "cell_type": "code",
   "execution_count": null,
   "metadata": {
    "collapsed": true
   },
   "outputs": [],
   "source": [
    "import os\n",
    "import pandas as pd\n",
    "import numpy as np\n",
    "import shutil\n",
    "import cPickle as pkl"
   ]
  },
  {
   "cell_type": "markdown",
   "metadata": {},
   "source": [
    "## initialize new dir tree"
   ]
  },
  {
   "cell_type": "code",
   "execution_count": null,
   "metadata": {
    "collapsed": false
   },
   "outputs": [],
   "source": [
    "root = 'images_with_annotaitons1'\n",
    "images_dir = os.path.join(root, 'images')\n",
    "annotations_dir = os.path.join(root, 'annotations')\n",
    "try:\n",
    "    os.makedirs(images_dir)\n",
    "    os.makedirs(annotations_dir)\n",
    "except:\n",
    "    pass"
   ]
  },
  {
   "cell_type": "markdown",
   "metadata": {},
   "source": [
    "### crawl dirs and rename csv files, images to include original image name\n",
    "### move all pics to 'images' dir and all csvs to 'annotations' dir"
   ]
  },
  {
   "cell_type": "code",
   "execution_count": null,
   "metadata": {
    "collapsed": true
   },
   "outputs": [],
   "source": [
    "move_list=[]\n",
    "for root,_,files in os.walk(root):\n",
    "    if root==images_dir or root==annotations_dir or len(files)==0:\n",
    "        continue\n",
    "    source_image_name = root.split(os.sep)[-1].replace('crop','')\n",
    "    for file in files:\n",
    "        src = os.path.join(root,file)\n",
    "        if file == 'Images.csv':\n",
    "            dst = os.path.join(annotations_dir,source_image_name+'.csv')\n",
    "        else:\n",
    "            patch_id = int(os.path.splitext(file)[0].replace('pic',''))\n",
    "            new_filename = '{}_{:05}.jpg'.format(source_image_name, patch_id)\n",
    "            dst = os.path.join(images_dir, new_filename)\n",
    "        move_list.append((src,dst))\n",
    "\n",
    "# you gotta manually remove empty dirs afterwards\n",
    "for src, dst in move_list:\n",
    "    print 'Moving {} to {}'.format(src,dst)\n",
    "    shutil.move(src,dst)"
   ]
  },
  {
   "cell_type": "code",
   "execution_count": null,
   "metadata": {
    "collapsed": false
   },
   "outputs": [],
   "source": [
    "# sanity check, returns true only before saving patch db to file\n",
    "csvs = os.listdir(annotations_dir)\n",
    "len(csvs) == 27"
   ]
  },
  {
   "cell_type": "markdown",
   "metadata": {},
   "source": [
    "## each large sweep was cut into smaller pictures, these pictures are called 'patches' from here on out."
   ]
  },
  {
   "cell_type": "code",
   "execution_count": null,
   "metadata": {
    "collapsed": true
   },
   "outputs": [],
   "source": [
    "classes = ('__background__',\n",
    "           'car', 'van', 'truck', \n",
    "           'concretetruck', 'bus')\n",
    "num_classes = len(classes)\n",
    "class_to_ind = dict(zip(classes, xrange(num_classes)))\n",
    "\n",
    "def get_shapes(patch_df):\n",
    "    raw_points = np.array(patch_df.ix[:,1:], dtype=np.float32)[:,::-1]\n",
    "    polygons = np.zeros((raw_points.shape[0],4,2), dtype=np.float32)\n",
    "    bboxes = np.zeros((raw_points.shape[0],4), dtype=np.float32)\n",
    "    for i in xrange(raw_points.shape[0]):\n",
    "        poly = raw_points[i].reshape(4,2) - 1 # zero-index points\n",
    "        polygons[i]=poly\n",
    "        bboxes[i,0:2]=np.min(poly, 0) # get xmin, ymin\n",
    "        bboxes[i,2:4]=np.max(poly, 0) # get xmax, ymax\n",
    "    return bboxes, polygons\n",
    "\n",
    "# TODO: complete\n",
    "def get_classes(patch_df):\n",
    "    return patch_df['Entities EntityType'].values.tolist()"
   ]
  },
  {
   "cell_type": "markdown",
   "metadata": {},
   "source": [
    "## the following script parses this 'patch db' from all original csv files using pandas"
   ]
  },
  {
   "cell_type": "code",
   "execution_count": null,
   "metadata": {
    "collapsed": false
   },
   "outputs": [],
   "source": [
    "patch_db={}\n",
    "s=set()\n",
    "for csv in csvs:\n",
    "    source_image_name = os.path.splitext(csv)[0]\n",
    "    df = pd.read_csv(os.path.join(annotations_dir, csv))\n",
    "    \n",
    "    # weed out all invalid boxes per patch\n",
    "    patch_list = df['FileName']\n",
    "    i = 0\n",
    "    while i<len(patch_list) and isinstance(patch_list[i],str):\n",
    "        j=1\n",
    "        while i+j<len(patch_list) and not isinstance(patch_list[i+j],str):\n",
    "            j+=1\n",
    "        \n",
    "        # set flattened patch name\n",
    "        patch_id = int(os.path.splitext(patch_list[i])[0].replace('pic',''))\n",
    "        patch_name = '{}_{:05}.jpg'.format(source_image_name, patch_id)\n",
    "        patch_df = df.ix[i:i+j-1, 'Entities EntityType':'Entities P1 X'].reset_index(drop=True)\n",
    "        first_entry = patch_df.ix[0,'Entities EntityType']\n",
    "        \n",
    "        # if valid, log bboxes and polygons in patch to patch db\n",
    "        if isinstance(first_entry,str):\n",
    "            bboxes, polygons = get_shapes(patch_df)\n",
    "            gt_classes = get_classes(patch_df)\n",
    "            patch_db[patch_name]= {'boxes' : bboxes,\n",
    "                                   'polygons' : polygons,\n",
    "                                   'gt_classes' : gt_classes}\n",
    "        # else, this is an empty patch and is logged as such\n",
    "        else:\n",
    "            patch_db[patch_name]= {'boxes' : None,\n",
    "                                   'polygons' : None,\n",
    "                                   'gt_classes' : None}\n",
    "        # advance loop\n",
    "        i+=j\n"
   ]
  },
  {
   "cell_type": "code",
   "execution_count": null,
   "metadata": {
    "collapsed": false
   },
   "outputs": [],
   "source": [
    "# check for nans\n",
    "for _,d in patch_db.iteritems():\n",
    "    for k,v in d.iteritems():\n",
    "        if k == 'boxes' or k == 'polygons':\n",
    "            if v is not None and (np.isnan(v).any() == True or np.isnan(v).any() == True):\n",
    "                print('found nan in: ')\n",
    "                print(k,v)\n",
    "print 'reached end'"
   ]
  },
  {
   "cell_type": "code",
   "execution_count": null,
   "metadata": {
    "collapsed": false
   },
   "outputs": [],
   "source": [
    "# non-empty patches\n",
    "nep = [k for k in patch_db.keys() if patch_db[k]['boxes'] is not None]\n",
    "print 'non-empty patches: {}'.format(len(nep))\n",
    "# patches total\n",
    "print 'patches total: {}'.format(len(patch_db))"
   ]
  },
  {
   "cell_type": "code",
   "execution_count": null,
   "metadata": {
    "collapsed": false
   },
   "outputs": [],
   "source": [
    "# save to disk\n",
    "with open(os.path.join(annotations_dir, 'complete_dataset.pkl'), 'wb') as f:\n",
    "    pkl.dump(patch_db, f)"
   ]
  },
  {
   "cell_type": "markdown",
   "metadata": {},
   "source": [
    "## visualize bboxes in patches"
   ]
  },
  {
   "cell_type": "code",
   "execution_count": 1,
   "metadata": {
    "collapsed": true
   },
   "outputs": [],
   "source": [
    "import cv2\n",
    "import os\n",
    "import pandas as pd\n",
    "import numpy as np\n",
    "import shutil\n",
    "import cPickle as pkl\n",
    "\n",
    "root = 'images_with_annotaitons1'\n",
    "images_dir = os.path.join(root, 'images')\n",
    "annotations_dir = os.path.join(root, 'annotations')\n",
    "\n",
    "def vis_detections(im, title, roidb): #tp, fp, fn):\n",
    "    \"\"\"Visual debugging of detections.\"\"\"\n",
    "    import matplotlib.pyplot as plt\n",
    "    im = im[:, :, (2, 1, 0)]\n",
    "    plt.cla()\n",
    "    plt.title(title)\n",
    "    plt.imshow(im)\n",
    "    _draw_detections(im, roidb, plt)\n",
    "    plt.show()\n",
    "\n",
    "def _draw_detections(im, roidb, plt):\n",
    "    boxes = roidb['boxes']\n",
    "    if boxes is None: return\n",
    "    for i in xrange(boxes.shape[0]):\n",
    "        bbox = boxes[i, :4]\n",
    "        plt.gca().add_patch(\n",
    "            plt.Rectangle((bbox[0], bbox[1]),\n",
    "                          bbox[2] - bbox[0],\n",
    "                          bbox[3] - bbox[1], fill=False,\n",
    "                          edgecolor='red', linewidth=2)\n",
    "            )\n",
    "    return"
   ]
  },
  {
   "cell_type": "code",
   "execution_count": null,
   "metadata": {
    "collapsed": false
   },
   "outputs": [
    {
     "name": "stdout",
     "output_type": "stream",
     "text": [
      "images_with_annotaitons1/images/OGN001_260614_00000_0000000_VIS_11185292_00004_00558_P01OF01_00058.jpg\n",
      "images_with_annotaitons1/images/OGN001_260614_00000_0000000_VIS_11182325_00004_00536_P01OF01_00051.jpg\n",
      "images_with_annotaitons1/images/OGN001_260614_00000_0000000_VIS_11181644_00004_00531_P01OF01_00035.jpg\n",
      "images_with_annotaitons1/images/OGN001_260614_00000_0000001_VIS_11293099_00004_00160_P01OF01_00055.jpg\n",
      "images_with_annotaitons1/images/OGN001_260614_00000_0000000_VIS_11181911_00004_00533_P01OF01_00030.jpg\n",
      "images_with_annotaitons1/images/OGN001_260614_00000_0000000_VIS_11184114_00004_00549_P01OF01_00158.jpg\n",
      "images_with_annotaitons1/images/OGN001_260614_00000_0000000_VIS_11190066_00004_00564_P01OF01_00057.jpg"
     ]
    }
   ],
   "source": [
    "# load patch_db\n",
    "with open(os.path.join(annotations_dir, 'complete_dataset.pkl')) as f:\n",
    "    patch_db = pkl.load(f)\n",
    "\n",
    "# visualize annotations\n",
    "for k,v in patch_db.iteritems():\n",
    "    image_path = os.path.join(images_dir, k)\n",
    "    im = cv2.imread(image_path)\n",
    "    print(image_path)\n",
    "    vis_detections(im, k, v)"
   ]
  }
 ],
 "metadata": {
  "kernelspec": {
   "display_name": "Python 2",
   "language": "python",
   "name": "python2"
  },
  "language_info": {
   "codemirror_mode": {
    "name": "ipython",
    "version": 2
   },
   "file_extension": ".py",
   "mimetype": "text/x-python",
   "name": "python",
   "nbconvert_exporter": "python",
   "pygments_lexer": "ipython2",
   "version": "2.7.6"
  }
 },
 "nbformat": 4,
 "nbformat_minor": 0
}
