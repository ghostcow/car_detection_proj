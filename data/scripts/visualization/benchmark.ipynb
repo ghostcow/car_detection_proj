{
 "cells": [
  {
   "cell_type": "code",
   "execution_count": 2,
   "metadata": {
    "collapsed": true
   },
   "outputs": [],
   "source": [
    "import numpy as np"
   ]
  },
  {
   "cell_type": "code",
   "execution_count": 4,
   "metadata": {
    "collapsed": false
   },
   "outputs": [],
   "source": [
    "import cPickle as cp\n",
    "# with open('../../fast-rcnn/output/car_ds/cars_val/vgg16_fast_rcnn_iter_1800/test_results_hc44c.pkl', 'rb') as f:\n",
    "#     dt = [np.array(l) for l in cp.load(f)[1]]\n",
    "with open('../../fast-rcnn/data/OIRDS_v1_0/OIRDS_val.pkl', 'rb') as f:\n",
    "    raw_gt = cp.load(f)\n",
    "pics = sorted(raw_gt.keys())\n",
    "gt = [np.array(raw_gt[k]) for k in pics]"
   ]
  },
  {
   "cell_type": "code",
   "execution_count": 29,
   "metadata": {
    "collapsed": true
   },
   "outputs": [],
   "source": [
    "with open('../../fast-rcnn/output/car_ds/cars_test/vgg16_fast_rcnn_iter_2000/nms_detections.pkl', 'rb') as f:\n",
    "    dt = [np.array(l) for l in cp.load(f)[1]]"
   ]
  },
  {
   "cell_type": "code",
   "execution_count": 19,
   "metadata": {
    "collapsed": true
   },
   "outputs": [],
   "source": [
    "with open('../../fast-rcnn/data/OIRDS_v1_0/OIRDS_train.pkl', 'rb') as f:\n",
    "    raw_gt = cp.load(f)\n",
    "pics = sorted(raw_gt.keys())\n",
    "train_gt = [np.array(raw_gt[k]) for k in pics]\n",
    "with open('../../fast-rcnn/data/OIRDS_v1_0/OIRDS_test.pkl', 'rb') as f:\n",
    "    raw_gt = cp.load(f)\n",
    "pics = sorted(raw_gt.keys())\n",
    "test_gt = [np.array(raw_gt[k]) for k in pics]"
   ]
  },
  {
   "cell_type": "code",
   "execution_count": 40,
   "metadata": {
    "collapsed": true
   },
   "outputs": [],
   "source": [
    "# gets IoUs for a single pic\n",
    "def get_ious(gt, dt):\n",
    "    \"\"\"\n",
    "    output \n",
    "        -a DxG grid of IoUs (D = num of detections, G = num of ground truths)\n",
    "        -score vector for said detections\n",
    "    \"\"\" \n",
    "    ious = np.zeros((len(dt),len(gt)), dtype=np.float32)\n",
    "    x1_dt, x1_gt = dt[:, 0], gt[:, 0]\n",
    "    y1_dt, y1_gt = dt[:, 1], gt[:, 1]\n",
    "    x2_dt, x2_gt = dt[:, 2], gt[:, 2]\n",
    "    y2_dt, y2_gt = dt[:, 3], gt[:, 3]\n",
    "    scores       = dt[:, 4][:, np.newaxis]\n",
    "    \n",
    "    areas_dt = (x2_dt - x1_dt + 1) * (y2_dt - y1_dt + 1)\n",
    "    areas_gt = (x2_gt - x1_gt + 1) * (y2_gt - y1_gt + 1)\n",
    "    \n",
    "    for i in xrange(len(dt)):\n",
    "        xx1 = np.maximum(x1_dt[i], x1_gt)\n",
    "        yy1 = np.maximum(y1_dt[i], y1_gt)\n",
    "        xx2 = np.minimum(x2_dt[i], x2_gt)\n",
    "        yy2 = np.minimum(y2_dt[i], y2_gt)\n",
    "        \n",
    "        w = np.maximum(0.0, xx2 - xx1 + 1)\n",
    "        h = np.maximum(0.0, yy2 - yy1 + 1)\n",
    "        inter = w * h\n",
    "        \n",
    "        ovr = inter / (areas_dt[i] + areas_gt - inter)\n",
    "        ious[i] = ovr\n",
    "    return np.hstack([ious, scores])"
   ]
  },
  {
   "cell_type": "code",
   "execution_count": 41,
   "metadata": {
    "collapsed": false
   },
   "outputs": [],
   "source": [
    "def get_accuracy(ious, iou_thres=0.5, score_thres=0.5):\n",
    "    raw_z = []\n",
    "    raw_s = []\n",
    "    for i in xrange(len(ious)):\n",
    "        D, G = ious[i].shape\n",
    "        # sanity check\n",
    "        for j in xrange(D):\n",
    "            assert((ious[i][j, :-1] >= iou_thres).sum() <= 1)\n",
    "        for j in xrange(G - 1):\n",
    "            assert((ious[i][:, j] >= iou_thres).sum() <= 1)\n",
    "\n",
    "        # build z vector\n",
    "        zi = np.zeros(D)\n",
    "        # fill zi with ones at locations where a match was found\n",
    "        for j in xrange(D):\n",
    "            idx = np.argmax(ious[i][j, :-1])    \n",
    "            if ious[i][j, idx] >= iou_thres:\n",
    "                zi[j] = 1\n",
    "        raw_z.append(zi)\n",
    "\n",
    "        # build s vector\n",
    "        # fill si with ones at locations above score threshold\n",
    "        si = ious[i][:, -1] >= score_thres\n",
    "        raw_s.append(si)\n",
    "\n",
    "    z = np.hstack(raw_z)\n",
    "    s = np.hstack(raw_s)\n",
    "    # N = sum([len(gt[j]) for j in xrange(len(gt))])\n",
    "\n",
    "    accuracy = np.sum(np.dot(s,z)) / np.sum(s)\n",
    "    # recall = sum(np.dot(s,z)) / N\n",
    "    return accuracy #, recall"
   ]
  },
  {
   "cell_type": "code",
   "execution_count": 42,
   "metadata": {
    "collapsed": false
   },
   "outputs": [],
   "source": [
    "def get_recall_thresholds(gt, dt):\n",
    "    raw_scores = np.unique(np.hstack([dt[j][:, 4] for j in xrange(len(dt))]))\n",
    "    scores = np.sort(raw_scores)\n",
    "    thresholds = np.zeros(len(scores)-1)\n",
    "    for j in xrange(len(thresholds)):\n",
    "        cur_thresh = (scores[j]+scores[j+1])/2\n",
    "        thresholds[j] = cur_thresh\n",
    "    return thresholds[::2]"
   ]
  },
  {
   "cell_type": "code",
   "execution_count": 49,
   "metadata": {
    "collapsed": false
   },
   "outputs": [
    {
     "name": "stdout",
     "output_type": "stream",
     "text": [
      "mAP=0.53851446959 at IoU threshold 0.5, in time 1.41\n"
     ]
    }
   ],
   "source": [
    "import time\n",
    "t0 = time.time()\n",
    "iou_thres = 0.5\n",
    "# print(dt)\n",
    "recall_thres = get_recall_thresholds(gt, dt) # ; print(len(recall_thres))\n",
    "ious = [get_ious(gt[j], dt[j]) for j in xrange(len(gt))]\n",
    "accuracy = [get_accuracy(ious, iou_thres=iou_thres, score_thres=t) for t in recall_thres]\n",
    "print('mAP={} at IoU threshold {}, in time {:.02f}'.format(np.mean(accuracy), iou_thres, time.time()-t0))"
   ]
  },
  {
   "cell_type": "code",
   "execution_count": null,
   "metadata": {
    "collapsed": true
   },
   "outputs": [],
   "source": []
  },
  {
   "cell_type": "code",
   "execution_count": 29,
   "metadata": {
    "collapsed": false
   },
   "outputs": [
    {
     "data": {
      "text/plain": [
       "array([ 0,  2,  4,  6,  8, 10, 12, 14, 16, 18, 20, 22, 24, 26, 28])"
      ]
     },
     "execution_count": 29,
     "metadata": {},
     "output_type": "execute_result"
    }
   ],
   "source": [
    "arr = np.arange(30)\n",
    "arr[::2]"
   ]
  },
  {
   "cell_type": "code",
   "execution_count": 103,
   "metadata": {
    "collapsed": false
   },
   "outputs": [],
   "source": [
    "# obsolete code\n",
    "num_pics = len(gt)\n",
    "thresholds = np.arange(0.5,0.95,0.05)\n",
    "num_thresh = thresholds.shape[0]\n",
    "accuracy = np.zeros((num_thresh,num_pics))\n",
    "for i in xrange(num_thresh):\n",
    "    for j in xrange(num_pics):\n",
    "        ious = get_ious(gt[j],dt[j])\n",
    "        thresh = 0.5\n",
    "        count = 0.0\n",
    "        for k in xrange(ious.shape[0]):\n",
    "            _gt = np.argmax(ious[k])\n",
    "            iou = ious[k,_gt]\n",
    "            if iou >= thresholds[i]:\n",
    "                count += 1\n",
    "        accuracy[i,j] = count / ious.shape[0]\n",
    "mean_accuracy = np.mean(accuracy)"
   ]
  },
  {
   "cell_type": "code",
   "execution_count": 108,
   "metadata": {
    "collapsed": false
   },
   "outputs": [
    {
     "data": {
      "text/plain": [
       "array([[ 0.86496615,  0.        ],\n",
       "       [ 0.        ,  0.        ],\n",
       "       [ 0.        ,  0.        ],\n",
       "       [ 0.        ,  0.        ],\n",
       "       [ 0.        ,  0.        ],\n",
       "       [ 0.        ,  0.        ],\n",
       "       [ 0.        ,  0.        ],\n",
       "       [ 0.        ,  0.        ],\n",
       "       [ 0.        ,  0.        ]], dtype=float32)"
      ]
     },
     "execution_count": 108,
     "metadata": {},
     "output_type": "execute_result"
    }
   ],
   "source": [
    "ious = get_ious(gt[j],dt[j]); ious"
   ]
  },
  {
   "cell_type": "code",
   "execution_count": 106,
   "metadata": {
    "collapsed": false
   },
   "outputs": [
    {
     "name": "stdout",
     "output_type": "stream",
     "text": [
      "[ 1.          1.          0.16666667  0.75        0.          0.14285714\n",
      "  0.4         0.05882353  0.25        0.2         0.125       0.25        1.\n",
      "  1.          1.          1.          0.16666667  0.16666667  0.33333333\n",
      "  0.          0.          0.16666667  0.5         0.125       0.5         0.1\n",
      "  0.33333333  0.25        0.25        0.25        1.          1.          0.\n",
      "  0.6         0.33333333  0.4         0.66666667  0.4         0.4         0.5\n",
      "  0.42857143  0.4         0.6         0.11111111  0.14285714  0.33333333\n",
      "  0.28571429  0.33333333  0.2         0.22222222  0.2         0.125\n",
      "  0.28571429  0.2         0.5         0.57142857  0.16666667  0.2         0.125\n",
      "  0.33333333  0.33333333  0.2         1.          0.125       0.33333333\n",
      "  0.25        0.18181818  0.25        0.2         0.375       0.6\n",
      "  0.16666667  0.125       0.5         0.6         0.1         0.33333333\n",
      "  0.5         0.33333333  0.28571429  0.33333333  0.14285714  0.6\n",
      "  0.11111111  0.5         0.5         0.6         0.5         1.          0.4\n",
      "  0.11111111  0.5         0.09090909  0.14285714  0.11764706  0.11111111\n",
      "  0.16666667  0.2         0.16666667  0.2         0.1875      0.5         0.5\n",
      "  1.          0.25        0.09090909  0.2         0.33333333  0.2         0.125\n",
      "  0.16666667  1.          0.14285714  0.11111111  0.22222222  0.11111111]\n",
      "[ 1.          1.          0.16666667  0.75        0.          0.14285714\n",
      "  0.2         0.05882353  0.25        0.2         0.125       0.25        1.\n",
      "  1.          1.          1.          0.16666667  0.16666667  0.33333333\n",
      "  0.          0.          0.          0.5         0.125       0.5         0.1\n",
      "  0.33333333  0.25        0.25        0.25        1.          1.          0.\n",
      "  0.6         0.33333333  0.4         0.66666667  0.4         0.4         0.5\n",
      "  0.42857143  0.4         0.6         0.11111111  0.14285714  0.33333333\n",
      "  0.28571429  0.33333333  0.2         0.22222222  0.2         0.125\n",
      "  0.28571429  0.2         0.5         0.57142857  0.16666667  0.2         0.125\n",
      "  0.33333333  0.33333333  0.2         1.          0.125       0.33333333\n",
      "  0.25        0.18181818  0.25        0.2         0.375       0.6\n",
      "  0.16666667  0.125       0.5         0.6         0.1         0.33333333\n",
      "  0.5         0.33333333  0.28571429  0.33333333  0.14285714  0.6\n",
      "  0.11111111  0.5         0.5         0.6         0.5         1.          0.4\n",
      "  0.11111111  0.5         0.09090909  0.14285714  0.11764706  0.11111111\n",
      "  0.16666667  0.2         0.16666667  0.2         0.1875      0.5         0.5\n",
      "  1.          0.25        0.09090909  0.2         0.33333333  0.2         0.125\n",
      "  0.16666667  1.          0.14285714  0.11111111  0.22222222  0.11111111]\n",
      "[ 1.          1.          0.16666667  0.75        0.          0.14285714\n",
      "  0.2         0.05882353  0.25        0.2         0.125       0.25        1.\n",
      "  1.          1.          1.          0.16666667  0.16666667  0.33333333\n",
      "  0.          0.          0.          0.33333333  0.125       0.5         0.1\n",
      "  0.33333333  0.25        0.25        0.25        1.          1.          0.\n",
      "  0.6         0.33333333  0.4         0.66666667  0.4         0.4         0.5\n",
      "  0.42857143  0.2         0.4         0.11111111  0.14285714  0.33333333\n",
      "  0.28571429  0.33333333  0.2         0.22222222  0.1         0.125\n",
      "  0.28571429  0.2         0.5         0.57142857  0.16666667  0.2         0.125\n",
      "  0.33333333  0.33333333  0.2         1.          0.125       0.33333333\n",
      "  0.25        0.18181818  0.25        0.2         0.375       0.6\n",
      "  0.16666667  0.125       0.5         0.6         0.          0.33333333\n",
      "  0.5         0.33333333  0.28571429  0.33333333  0.          0.6\n",
      "  0.11111111  0.5         0.5         0.6         0.5         1.          0.4\n",
      "  0.11111111  0.33333333  0.09090909  0.14285714  0.11764706  0.11111111\n",
      "  0.16666667  0.2         0.16666667  0.2         0.1875      0.5         0.5\n",
      "  1.          0.25        0.09090909  0.2         0.33333333  0.2         0.125\n",
      "  0.16666667  1.          0.14285714  0.11111111  0.22222222  0.11111111]\n",
      "[ 1.          1.          0.16666667  0.75        0.          0.14285714\n",
      "  0.2         0.05882353  0.25        0.2         0.125       0.          1.\n",
      "  1.          1.          1.          0.16666667  0.          0.33333333\n",
      "  0.          0.          0.          0.33333333  0.125       0.5         0.1\n",
      "  0.33333333  0.25        0.25        0.25        1.          1.          0.\n",
      "  0.6         0.33333333  0.4         0.66666667  0.4         0.4         0.\n",
      "  0.42857143  0.2         0.4         0.11111111  0.14285714  0.33333333\n",
      "  0.28571429  0.33333333  0.          0.22222222  0.1         0.125\n",
      "  0.28571429  0.2         0.5         0.42857143  0.08333333  0.2         0.\n",
      "  0.          0.33333333  0.2         1.          0.125       0.33333333\n",
      "  0.25        0.18181818  0.25        0.2         0.375       0.6\n",
      "  0.16666667  0.125       0.5         0.6         0.          0.33333333\n",
      "  0.25        0.33333333  0.28571429  0.33333333  0.          0.6         0.\n",
      "  0.5         0.          0.6         0.5         1.          0.4\n",
      "  0.11111111  0.33333333  0.09090909  0.14285714  0.05882353  0.11111111\n",
      "  0.16666667  0.2         0.16666667  0.2         0.1875      0.5         0.5\n",
      "  1.          0.25        0.09090909  0.2         0.          0.2         0.125\n",
      "  0.08333333  1.          0.14285714  0.11111111  0.22222222  0.11111111]\n",
      "[ 1.          1.          0.16666667  0.75        0.          0.14285714\n",
      "  0.2         0.          0.25        0.2         0.125       0.          1.\n",
      "  1.          1.          1.          0.          0.          0.33333333\n",
      "  0.          0.          0.          0.33333333  0.125       0.5         0.1\n",
      "  0.          0.125       0.25        0.25        1.          1.          0.\n",
      "  0.2         0.          0.4         0.66666667  0.4         0.4         0.\n",
      "  0.28571429  0.2         0.          0.11111111  0.14285714  0.33333333\n",
      "  0.28571429  0.33333333  0.          0.11111111  0.          0.125\n",
      "  0.28571429  0.1         0.5         0.42857143  0.08333333  0.2         0.\n",
      "  0.          0.33333333  0.2         1.          0.125       0.33333333\n",
      "  0.25        0.18181818  0.          0.2         0.375       0.6\n",
      "  0.16666667  0.          0.5         0.6         0.          0.33333333\n",
      "  0.25        0.33333333  0.28571429  0.16666667  0.          0.6         0.\n",
      "  0.          0.          0.6         0.5         1.          0.4\n",
      "  0.11111111  0.16666667  0.09090909  0.14285714  0.05882353  0.11111111\n",
      "  0.16666667  0.2         0.16666667  0.2         0.1875      0.25        0.5\n",
      "  1.          0.16666667  0.          0.2         0.          0.2         0.125\n",
      "  0.08333333  1.          0.14285714  0.          0.22222222  0.11111111]\n",
      "[ 0.5         1.          0.16666667  0.5         0.          0.14285714\n",
      "  0.2         0.          0.25        0.2         0.125       0.          1.\n",
      "  1.          1.          0.5         0.          0.          0.33333333\n",
      "  0.          0.          0.          0.16666667  0.          0.          0.1\n",
      "  0.          0.125       0.25        0.          1.          0.5         0.\n",
      "  0.2         0.          0.4         0.66666667  0.4         0.4         0.\n",
      "  0.28571429  0.2         0.          0.11111111  0.14285714  0.33333333\n",
      "  0.28571429  0.33333333  0.          0.11111111  0.          0.\n",
      "  0.28571429  0.1         0.25        0.42857143  0.08333333  0.2         0.\n",
      "  0.          0.33333333  0.2         0.          0.125       0.33333333\n",
      "  0.125       0.18181818  0.          0.2         0.375       0.6\n",
      "  0.16666667  0.          0.5         0.4         0.          0.33333333\n",
      "  0.          0.          0.28571429  0.16666667  0.          0.6         0.\n",
      "  0.          0.          0.2         0.5         0.75        0.4\n",
      "  0.11111111  0.16666667  0.09090909  0.          0.05882353  0.\n",
      "  0.16666667  0.2         0.16666667  0.1         0.125       0.25        0.5\n",
      "  1.          0.          0.          0.2         0.          0.2         0.\n",
      "  0.08333333  0.          0.14285714  0.          0.11111111  0.11111111]\n",
      "[ 0.          1.          0.16666667  0.5         0.          0.          0.2\n",
      "  0.          0.25        0.          0.125       0.          1.          0.\n",
      "  1.          0.5         0.          0.          0.33333333  0.          0.\n",
      "  0.          0.16666667  0.          0.          0.1         0.          0.125\n",
      "  0.          0.          1.          0.5         0.          0.2         0.\n",
      "  0.4         0.33333333  0.3         0.2         0.          0.28571429\n",
      "  0.2         0.          0.11111111  0.14285714  0.33333333  0.28571429\n",
      "  0.          0.          0.          0.          0.          0.14285714\n",
      "  0.          0.          0.42857143  0.08333333  0.2         0.          0.\n",
      "  0.33333333  0.          0.          0.125       0.33333333  0.\n",
      "  0.09090909  0.          0.1         0.25        0.6         0.16666667\n",
      "  0.          0.33333333  0.2         0.          0.22222222  0.          0.\n",
      "  0.14285714  0.          0.          0.4         0.          0.          0.\n",
      "  0.          0.5         0.5         0.          0.          0.\n",
      "  0.09090909  0.          0.05882353  0.          0.16666667  0.2\n",
      "  0.16666667  0.1         0.0625      0.          0.5         0.          0.\n",
      "  0.          0.2         0.          0.2         0.          0.08333333\n",
      "  0.          0.14285714  0.          0.11111111  0.11111111]\n",
      "[ 0.          1.          0.          0.25        0.          0.          0.\n",
      "  0.          0.25        0.          0.          0.          0.          0.\n",
      "  0.          0.          0.          0.          0.          0.          0.\n",
      "  0.          0.          0.          0.          0.1         0.          0.\n",
      "  0.          0.          1.          0.5         0.          0.2         0.\n",
      "  0.          0.          0.1         0.2         0.          0.14285714\n",
      "  0.          0.          0.11111111  0.          0.          0.14285714\n",
      "  0.          0.          0.          0.          0.          0.14285714\n",
      "  0.          0.          0.14285714  0.          0.          0.          0.\n",
      "  0.33333333  0.          0.          0.125       0.33333333  0.\n",
      "  0.09090909  0.          0.1         0.25        0.6         0.16666667\n",
      "  0.          0.33333333  0.2         0.          0.11111111  0.          0.\n",
      "  0.          0.          0.          0.2         0.          0.          0.\n",
      "  0.          0.5         0.          0.          0.          0.          0.\n",
      "  0.          0.05882353  0.          0.16666667  0.          0.16666667\n",
      "  0.1         0.0625      0.          0.5         0.          0.          0.\n",
      "  0.2         0.          0.2         0.          0.08333333  0.          0.\n",
      "  0.          0.11111111  0.11111111]\n",
      "[ 0.          0.          0.          0.25        0.          0.          0.\n",
      "  0.          0.          0.          0.          0.          0.          0.\n",
      "  0.          0.          0.          0.          0.          0.          0.\n",
      "  0.          0.          0.          0.          0.          0.          0.\n",
      "  0.          0.          0.          0.          0.          0.          0.\n",
      "  0.          0.          0.          0.          0.          0.          0.\n",
      "  0.          0.11111111  0.          0.          0.          0.          0.\n",
      "  0.          0.          0.          0.          0.          0.\n",
      "  0.14285714  0.          0.          0.          0.          0.33333333\n",
      "  0.          0.          0.          0.          0.          0.          0.\n",
      "  0.          0.25        0.4         0.16666667  0.          0.16666667\n",
      "  0.2         0.          0.11111111  0.          0.          0.          0.\n",
      "  0.          0.          0.          0.          0.          0.          0.5\n",
      "  0.          0.          0.          0.          0.          0.          0.\n",
      "  0.          0.          0.          0.          0.          0.          0.\n",
      "  0.5         0.          0.          0.          0.2         0.          0.\n",
      "  0.          0.          0.          0.          0.          0.          0.        ]\n"
     ]
    }
   ],
   "source": [
    "for i in xrange(len(accuracy)): print(accuracy[i])"
   ]
  },
  {
   "cell_type": "code",
   "execution_count": 20,
   "metadata": {
    "collapsed": false
   },
   "outputs": [
    {
     "data": {
      "text/plain": [
       "0.0"
      ]
     },
     "execution_count": 20,
     "metadata": {},
     "output_type": "execute_result"
    }
   ],
   "source": [
    "arr=np.zeros((3,3,3))\n",
    "np.mean(arr)"
   ]
  },
  {
   "cell_type": "code",
   "execution_count": 23,
   "metadata": {
    "collapsed": false
   },
   "outputs": [
    {
     "data": {
      "text/plain": [
       "[2, 20]"
      ]
     },
     "execution_count": 23,
     "metadata": {},
     "output_type": "execute_result"
    }
   ],
   "source": [
    "[i for i in np.array((20,200))/10]"
   ]
  },
  {
   "cell_type": "code",
   "execution_count": 25,
   "metadata": {
    "collapsed": false
   },
   "outputs": [
    {
     "name": "stdout",
     "output_type": "stream",
     "text": [
      "('total=', 219)\n",
      "('small count=', 105)\n",
      "('fraction=', 0.4794520547945205)\n",
      "('avg alt_thres=', 0.44045709686314422)\n"
     ]
    }
   ],
   "source": [
    "total = 0\n",
    "small_count = 0\n",
    "for pic in gt:\n",
    "    for i in xrange(len(pic)):\n",
    "        total+=1\n",
    "        bbox = pic[i]\n",
    "        w = bbox[2]-bbox[0]\n",
    "        h = bbox[3]-bbox[1]\n",
    "        thres = 0.5\n",
    "        alt_thres = float(h*w)/((h+10)*(w+10))\n",
    "        \n",
    "        if alt_thres<thres:\n",
    "            small_count += 1\n",
    "            alt_thress.append(alt_thres)\n",
    "#         print(min(thres, alt_thres), h*w)\n",
    "print('total=', total)\n",
    "print('small count=', small_count)\n",
    "print('fraction=', float(small_count)/total)\n",
    "print('avg alt_thres=', np.average(alt_thress))"
   ]
  },
  {
   "cell_type": "code",
   "execution_count": 24,
   "metadata": {
    "collapsed": false
   },
   "outputs": [
    {
     "name": "stdout",
     "output_type": "stream",
     "text": [
      "('total=', 1320)\n",
      "('small count=', 655)\n",
      "('fraction=', 0.4962121212121212)\n",
      "('avg alt_thres=', 0.4400120239468574)\n"
     ]
    }
   ],
   "source": [
    "total = 0\n",
    "small_count = 0\n",
    "for pic in train_gt:\n",
    "    for i in xrange(len(pic)):\n",
    "        total+=1\n",
    "        bbox = pic[i]\n",
    "        w = bbox[2]-bbox[0]\n",
    "        h = bbox[3]-bbox[1]\n",
    "        thres = 0.5\n",
    "        alt_thres = float(h*w)/((h+10)*(w+10))\n",
    "        \n",
    "        if alt_thres<thres:\n",
    "            small_count += 1\n",
    "            alt_thress.append(alt_thres)\n",
    "#         print(min(thres, alt_thres), h*w)\n",
    "print('total=', total)\n",
    "print('small count=', small_count)\n",
    "print('fraction=', float(small_count)/total)\n",
    "print('avg alt_thres=', np.average(alt_thress))"
   ]
  },
  {
   "cell_type": "code",
   "execution_count": 23,
   "metadata": {
    "collapsed": false
   },
   "outputs": [
    {
     "name": "stdout",
     "output_type": "stream",
     "text": [
      "('total=', 256)\n",
      "('small count=', 126)\n",
      "('fraction=', 0.4921875)\n",
      "('avg alt_thres=', 0.44031356988801656)\n"
     ]
    }
   ],
   "source": [
    "total = 0\n",
    "small_count = 0\n",
    "alt_thress = []\n",
    "for pic in test_gt:\n",
    "    for i in xrange(len(pic)):\n",
    "        total+=1\n",
    "        bbox = pic[i]\n",
    "        w = bbox[2]-bbox[0]\n",
    "        h = bbox[3]-bbox[1]\n",
    "        thres = 0.5\n",
    "        alt_thres = float(h*w)/((h+10)*(w+10))\n",
    "        \n",
    "        if alt_thres<thres:\n",
    "            small_count += 1\n",
    "            alt_thress.append(alt_thres)\n",
    "#         print(min(thres, alt_thres), h*w)\n",
    "print('total=', total)\n",
    "print('small count=', small_count)\n",
    "print('fraction=', float(small_count)/total)\n",
    "print('avg alt_thres=', np.average(alt_thress))"
   ]
  },
  {
   "cell_type": "code",
   "execution_count": 30,
   "metadata": {
    "collapsed": false
   },
   "outputs": [
    {
     "name": "stdout",
     "output_type": "stream",
     "text": [
      "[8, 11, 13, 19, 1, 2, 6, 2, 5, 6, 6, 10, 4, 3, 2, 1, 4, 5, 3, 7, 6, 2, 7, 4, 7, 3, 3, 7, 3, 0, 6, 6, 13, 2, 3, 3, 2, 7, 9, 3, 3, 7, 4, 4, 1, 2, 5, 2, 6, 2, 2, 3, 3, 5, 2, 2, 3, 3, 4, 6, 1, 7, 4, 1, 5, 1, 2, 7, 7, 5, 14, 8, 5, 12, 14, 4, 8, 12, 9, 2, 6, 16, 14, 4, 5, 15, 3, 9, 6, 10, 6, 7, 10, 8, 4, 3, 5, 7, 3, 4, 9, 8, 2, 3, 4, 8, 6, 3, 3, 8, 5, 6, 6, 6, 5, 3, 9, 7, 7, 9, 12, 7, 18, 2, 7, 6, 5, 3, 7, 5, 7, 5, 5, 4, 6, 6, 4]\n"
     ]
    }
   ],
   "source": [
    "print([d.shape[0] for d in dt])"
   ]
  }
 ],
 "metadata": {
  "kernelspec": {
   "display_name": "Python 2",
   "language": "python",
   "name": "python2"
  },
  "language_info": {
   "codemirror_mode": {
    "name": "ipython",
    "version": 2
   },
   "file_extension": ".py",
   "mimetype": "text/x-python",
   "name": "python",
   "nbconvert_exporter": "python",
   "pygments_lexer": "ipython2",
   "version": "2.7.6"
  }
 },
 "nbformat": 4,
 "nbformat_minor": 0
}
