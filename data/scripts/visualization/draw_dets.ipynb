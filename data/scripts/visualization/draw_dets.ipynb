{
 "cells": [
  {
   "cell_type": "markdown",
   "metadata": {},
   "source": [
    "LOAD STUPID GT AND BBOX PREDICTIONS"
   ]
  },
  {
   "cell_type": "code",
   "execution_count": 1,
   "metadata": {
    "collapsed": true
   },
   "outputs": [],
   "source": [
    "import cPickle\n",
    "import numpy as np\n",
    "import cv2"
   ]
  },
  {
   "cell_type": "code",
   "execution_count": 2,
   "metadata": {
    "collapsed": true
   },
   "outputs": [],
   "source": [
    "gt_pkl = '/home/lioruzan/car_detection_proj/py-faster-rcnn/data/OIRDS_v1_0/OIRDS_test.pkl'\n",
    "det_pkl = '/home/lioruzan/car_detection_proj/py-faster-rcnn/output/faster_rcnn_alt_opt/cars_test/cars_VGG16_faster_rcnn_final/nms_detections.pkl'\n",
    "\n",
    "with open(gt_pkl, 'rb') as f:\n",
    "    gt_test = cPickle.load(f)\n",
    "    for k,v in gt_test.iteritems():\n",
    "        gt_test[k] = np.array(v)\n",
    "with open(det_pkl, 'rb') as f:\n",
    "    det_test = cPickle.load(f)\n",
    "    det_test = det_test[1]"
   ]
  },
  {
   "cell_type": "code",
   "execution_count": 3,
   "metadata": {
    "collapsed": false
   },
   "outputs": [],
   "source": [
    "img_list = sorted(gt_test.keys())"
   ]
  },
  {
   "cell_type": "markdown",
   "metadata": {},
   "source": [
    "SMOOSH THEM TOGETHER PER IMAGE"
   ]
  },
  {
   "cell_type": "code",
   "execution_count": 18,
   "metadata": {
    "collapsed": true
   },
   "outputs": [],
   "source": [
    "import string\n",
    "import random\n",
    "\n",
    "def vis_detections(im, tp, fp, fn):\n",
    "    \"\"\"Visual debugging of detections.\"\"\"\n",
    "    import matplotlib.pyplot as plt\n",
    "    im = im[:, :, (2, 1, 0)]\n",
    "    plt.cla()\n",
    "    plt.imshow(im)\n",
    "    _draw_detections(im, tp, fp, fn, plt)\n",
    "    plt.show()\n",
    "\n",
    "def save_vis_detections(idx, out_dir, im, tp, fp, fn):\n",
    "    import matplotlib.pyplot as plt\n",
    "    im = im[:, :, (2, 1, 0)]\n",
    "    plt.cla()\n",
    "    plt.imshow(im)\n",
    "    _draw_detections(im, tp, fp, fn, plt)\n",
    "    plt.savefig(osp.join(out_dir,'{:04}.png'.format(idx)))\n",
    "\n",
    "def _draw_detections(im, tp, fp, fn, plt):\n",
    "    for i in xrange(tp.shape[0]):\n",
    "        bbox = tp[i, :4]\n",
    "        plt.gca().add_patch(\n",
    "            plt.Rectangle((bbox[0], bbox[1]),\n",
    "                          bbox[2] - bbox[0],\n",
    "                          bbox[3] - bbox[1], fill=False,\n",
    "                          edgecolor='green', linewidth=2)\n",
    "            )\n",
    "    for i in xrange(fp.shape[0]):\n",
    "        bbox = fp[i, :4]\n",
    "        plt.gca().add_patch(\n",
    "            plt.Rectangle((bbox[0], bbox[1]),\n",
    "                          bbox[2] - bbox[0],\n",
    "                          bbox[3] - bbox[1], fill=False,\n",
    "                          edgecolor='red', linewidth=2)\n",
    "            )\n",
    "    for i in xrange(fn.shape[0]):\n",
    "        bbox = fn[i, :4]\n",
    "        plt.gca().add_patch(\n",
    "            plt.Rectangle((bbox[0], bbox[1]),\n",
    "                          bbox[2] - bbox[0],\n",
    "                          bbox[3] - bbox[1], fill=False,\n",
    "                          edgecolor='yellow', linewidth=2)\n",
    "            )\n",
    "    return\n",
    "    \n",
    "# gets IoUs for a single pic\n",
    "def get_ious(dt, gt):\n",
    "    \"\"\"\n",
    "    output \n",
    "        -a DxG grid of IoUs (D = num of detections, G = num of ground truths)\n",
    "        -score vector for said detections\n",
    "    \"\"\" \n",
    "    ious = np.zeros((len(dt),len(gt)), dtype=np.float32)\n",
    "    x1_dt, x1_gt = dt[:, 0], gt[:, 0]\n",
    "    y1_dt, y1_gt = dt[:, 1], gt[:, 1]\n",
    "    x2_dt, x2_gt = dt[:, 2], gt[:, 2]\n",
    "    y2_dt, y2_gt = dt[:, 3], gt[:, 3]\n",
    "    \n",
    "    areas_dt = (x2_dt - x1_dt + 1) * (y2_dt - y1_dt + 1)\n",
    "    areas_gt = (x2_gt - x1_gt + 1) * (y2_gt - y1_gt + 1)\n",
    "    \n",
    "    for i in xrange(len(dt)):\n",
    "        xx1 = np.maximum(x1_dt[i], x1_gt)\n",
    "        yy1 = np.maximum(y1_dt[i], y1_gt)\n",
    "        xx2 = np.minimum(x2_dt[i], x2_gt)\n",
    "        yy2 = np.minimum(y2_dt[i], y2_gt)\n",
    "        w = np.maximum(0.0, xx2 - xx1 + 1)\n",
    "        h = np.maximum(0.0, yy2 - yy1 + 1)\n",
    "        \n",
    "        inter = w * h\n",
    "        ovr = inter / (areas_dt[i] + areas_gt - inter)\n",
    "        ious[i] = ovr\n",
    "    return ious\n",
    "\n",
    "def sort_dets(dets, gt, iou_thresh=0.5):\n",
    "    tp = []\n",
    "    fp = []\n",
    "    fn = []\n",
    "    ious = get_ious(dets, gt)\n",
    "    gt_idx = range(gt.shape[0])\n",
    "    \n",
    "    for j in xrange(dets.shape[0]):\n",
    "        current_ious = ious[j, gt_idx]\n",
    "        \n",
    "        # no more objects -> count as fp\n",
    "        if current_ious.shape[0] == 0:\n",
    "            fp.append(dets[j])\n",
    "            continue\n",
    "            \n",
    "        best = np.argmax(current_ious)\n",
    "        if current_ious[best] >= iou_thresh:\n",
    "            tp.append(dets[j])\n",
    "            gt_idx.pop(best)\n",
    "        else:\n",
    "            fp.append(dets[j])\n",
    "    # remaining unclaimed objects are false negatives    \n",
    "    remaining_gt = ious[:, gt_idx]\n",
    "    if remaining_gt.shape[1] > 0:\n",
    "        fn = gt[gt_idx, :]\n",
    "        \n",
    "    return np.array(tp), np.array(fp), np.array(fn)"
   ]
  },
  {
   "cell_type": "markdown",
   "metadata": {},
   "source": [
    "FIX BUG AND INTRODUCE SCORE THRESHOLD"
   ]
  },
  {
   "cell_type": "code",
   "execution_count": 22,
   "metadata": {
    "collapsed": false
   },
   "outputs": [],
   "source": [
    "import os.path as osp\n",
    "root = '/home/lioruzan/car_detection_proj/py-faster-rcnn/data/OIRDS_v1_0'\n",
    "out_dir = '/home/lioruzan/Desktop/idf_slides/det_examples'\n",
    "# limit to N top dets\n",
    "N = 5\n",
    "for j in xrange(len(img_list)):\n",
    "    im = cv2.imread(osp.join(root, img_list[j]))\n",
    "    dt = det_test[j][:N]\n",
    "    gt = gt_test[img_list[j]]\n",
    "    tp, fp, fn = sort_dets(dt, gt, iou_thresh=0.5)\n",
    "    save_vis_detections(j, out_dir, im, tp, fp, fn)\n",
    "#     vis_detections(im, tp, fp, fn)\n",
    "    "
   ]
  },
  {
   "cell_type": "code",
   "execution_count": 51,
   "metadata": {
    "collapsed": false
   },
   "outputs": [
    {
     "data": {
      "text/plain": [
       "array([[168,   1, 187,  13]])"
      ]
     },
     "execution_count": 51,
     "metadata": {},
     "output_type": "execute_result"
    }
   ],
   "source": [
    "fn"
   ]
  }
 ],
 "metadata": {
  "kernelspec": {
   "display_name": "Python 2",
   "language": "python",
   "name": "python2"
  },
  "language_info": {
   "codemirror_mode": {
    "name": "ipython",
    "version": 2
   },
   "file_extension": ".py",
   "mimetype": "text/x-python",
   "name": "python",
   "nbconvert_exporter": "python",
   "pygments_lexer": "ipython2",
   "version": "2.7.6"
  }
 },
 "nbformat": 4,
 "nbformat_minor": 0
}
